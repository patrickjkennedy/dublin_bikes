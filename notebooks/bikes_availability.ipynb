{
 "cells": [
  {
   "cell_type": "markdown",
   "metadata": {},
   "source": [
    "# Data Quality Report for Dublin Bikes Availability\n",
    "\n",
    "### The CSV files referenced here are available to download [here.](https://drive.google.com/drive/folders/1cVK3-9skev3Xg-FhSA6Yl8HMqaucgfTz?usp=sharing)\n",
    "\n",
    "### Importing Packages"
   ]
  },
  {
   "cell_type": "code",
   "execution_count": 1,
   "metadata": {},
   "outputs": [],
   "source": [
    "#Import package pandas for data analysis\n",
    "import pandas as pd\n",
    "\n",
    "#Import package matplotlib for visualisation/plotting\n",
    "import matplotlib.pyplot as plt\n",
    "\n",
    "#For showing plots directly in the notebook run the command below\n",
    "%matplotlib inline"
   ]
  },
  {
   "cell_type": "markdown",
   "metadata": {},
   "source": [
    "### Understanding Initial Data Set"
   ]
  },
  {
   "cell_type": "code",
   "execution_count": 2,
   "metadata": {},
   "outputs": [
    {
     "data": {
      "text/html": [
       "<div>\n",
       "<style scoped>\n",
       "    .dataframe tbody tr th:only-of-type {\n",
       "        vertical-align: middle;\n",
       "    }\n",
       "\n",
       "    .dataframe tbody tr th {\n",
       "        vertical-align: top;\n",
       "    }\n",
       "\n",
       "    .dataframe thead th {\n",
       "        text-align: right;\n",
       "    }\n",
       "</style>\n",
       "<table border=\"1\" class=\"dataframe\">\n",
       "  <thead>\n",
       "    <tr style=\"text-align: right;\">\n",
       "      <th></th>\n",
       "      <th>id</th>\n",
       "      <th>number</th>\n",
       "      <th>bike_stands</th>\n",
       "      <th>available_bike_stands</th>\n",
       "      <th>available_bikes</th>\n",
       "      <th>status</th>\n",
       "      <th>last_update</th>\n",
       "      <th>created_at</th>\n",
       "    </tr>\n",
       "  </thead>\n",
       "  <tbody>\n",
       "    <tr>\n",
       "      <th>0</th>\n",
       "      <td>1</td>\n",
       "      <td>42</td>\n",
       "      <td>30</td>\n",
       "      <td>0</td>\n",
       "      <td>30</td>\n",
       "      <td>OPEN</td>\n",
       "      <td>2019-02-20 19:08:32</td>\n",
       "      <td>2019-02-20 19:10:01</td>\n",
       "    </tr>\n",
       "    <tr>\n",
       "      <th>1</th>\n",
       "      <td>2</td>\n",
       "      <td>30</td>\n",
       "      <td>20</td>\n",
       "      <td>17</td>\n",
       "      <td>3</td>\n",
       "      <td>OPEN</td>\n",
       "      <td>2019-02-20 19:02:00</td>\n",
       "      <td>2019-02-20 19:10:01</td>\n",
       "    </tr>\n",
       "    <tr>\n",
       "      <th>2</th>\n",
       "      <td>3</td>\n",
       "      <td>54</td>\n",
       "      <td>33</td>\n",
       "      <td>33</td>\n",
       "      <td>0</td>\n",
       "      <td>OPEN</td>\n",
       "      <td>2019-02-20 19:02:15</td>\n",
       "      <td>2019-02-20 19:10:01</td>\n",
       "    </tr>\n",
       "    <tr>\n",
       "      <th>3</th>\n",
       "      <td>4</td>\n",
       "      <td>108</td>\n",
       "      <td>40</td>\n",
       "      <td>26</td>\n",
       "      <td>13</td>\n",
       "      <td>OPEN</td>\n",
       "      <td>2019-02-20 19:01:08</td>\n",
       "      <td>2019-02-20 19:10:01</td>\n",
       "    </tr>\n",
       "    <tr>\n",
       "      <th>4</th>\n",
       "      <td>5</td>\n",
       "      <td>56</td>\n",
       "      <td>40</td>\n",
       "      <td>34</td>\n",
       "      <td>6</td>\n",
       "      <td>OPEN</td>\n",
       "      <td>2019-02-20 19:08:18</td>\n",
       "      <td>2019-02-20 19:10:01</td>\n",
       "    </tr>\n",
       "  </tbody>\n",
       "</table>\n",
       "</div>"
      ],
      "text/plain": [
       "   id  number  bike_stands  available_bike_stands  available_bikes status  \\\n",
       "0   1      42           30                      0               30   OPEN   \n",
       "1   2      30           20                     17                3   OPEN   \n",
       "2   3      54           33                     33                0   OPEN   \n",
       "3   4     108           40                     26               13   OPEN   \n",
       "4   5      56           40                     34                6   OPEN   \n",
       "\n",
       "           last_update           created_at  \n",
       "0  2019-02-20 19:08:32  2019-02-20 19:10:01  \n",
       "1  2019-02-20 19:02:00  2019-02-20 19:10:01  \n",
       "2  2019-02-20 19:02:15  2019-02-20 19:10:01  \n",
       "3  2019-02-20 19:01:08  2019-02-20 19:10:01  \n",
       "4  2019-02-20 19:08:18  2019-02-20 19:10:01  "
      ]
     },
     "execution_count": 2,
     "metadata": {},
     "output_type": "execute_result"
    }
   ],
   "source": [
    "# importing csv file from the dynamic scraper\n",
    "\n",
    "df = pd.read_csv('dublin_bikes_availablity.csv')\n",
    "df.head()"
   ]
  },
  {
   "cell_type": "code",
   "execution_count": 3,
   "metadata": {},
   "outputs": [
    {
     "data": {
      "text/plain": [
       "1019825"
      ]
     },
     "execution_count": 3,
     "metadata": {},
     "output_type": "execute_result"
    }
   ],
   "source": [
    "# lads we have over a million rows from the last month!\n",
    "\n",
    "df.shape[0]"
   ]
  },
  {
   "cell_type": "code",
   "execution_count": 4,
   "metadata": {},
   "outputs": [
    {
     "data": {
      "text/plain": [
       "id                        int64\n",
       "number                    int64\n",
       "bike_stands               int64\n",
       "available_bike_stands     int64\n",
       "available_bikes           int64\n",
       "status                   object\n",
       "last_update              object\n",
       "created_at               object\n",
       "dtype: object"
      ]
     },
     "execution_count": 4,
     "metadata": {},
     "output_type": "execute_result"
    }
   ],
   "source": [
    "# initial datatypes. \n",
    "\n",
    "df.dtypes"
   ]
  },
  {
   "cell_type": "markdown",
   "metadata": {},
   "source": [
    "### Evaluating/Changing Data Types\n",
    "\n",
    "|Feature|Datatype From|Datatype To|\n",
    "|-------------------------|----------------------|------------------------|\n",
    "|status|object|categorical|\n",
    "|last_update|object|datetime64[ns]|\n",
    "|created_at|object|datetime64[ns]|"
   ]
  },
  {
   "cell_type": "code",
   "execution_count": 5,
   "metadata": {},
   "outputs": [],
   "source": [
    "# changing the feature status to datatype categorical \n",
    "\n",
    "df['status'] = df['status'].astype('category')"
   ]
  },
  {
   "cell_type": "code",
   "execution_count": 6,
   "metadata": {},
   "outputs": [
    {
     "data": {
      "text/plain": [
       "id                                int64\n",
       "number                            int64\n",
       "bike_stands                       int64\n",
       "available_bike_stands             int64\n",
       "available_bikes                   int64\n",
       "status                         category\n",
       "last_update              datetime64[ns]\n",
       "created_at               datetime64[ns]\n",
       "dtype: object"
      ]
     },
     "execution_count": 6,
     "metadata": {},
     "output_type": "execute_result"
    }
   ],
   "source": [
    "# changing features create_at and last_updated to datatype datetime64\n",
    "\n",
    "df['created_at'] = pd.to_datetime(df.created_at)\n",
    "df['last_update'] = pd.to_datetime(df.last_update)\n",
    "\n",
    "# Let view our updated datatypes!\n",
    "\n",
    "df.dtypes"
   ]
  },
  {
   "cell_type": "markdown",
   "metadata": {},
   "source": [
    "### Fun ways to maniputlate DateTime datatypes!!!"
   ]
  },
  {
   "cell_type": "code",
   "execution_count": 11,
   "metadata": {},
   "outputs": [
    {
     "name": "stdout",
     "output_type": "stream",
     "text": [
      "2019-02-20 19\n"
     ]
    }
   ],
   "source": [
    "# displaying the hour for feature created_at\n",
    "print(df.created_at.dt.date[0], df.created_at.dt.hour[0])"
   ]
  },
  {
   "cell_type": "code",
   "execution_count": 39,
   "metadata": {},
   "outputs": [
    {
     "data": {
      "text/plain": [
       "0    Wednesday\n",
       "1    Wednesday\n",
       "2    Wednesday\n",
       "3    Wednesday\n",
       "4    Wednesday\n",
       "Name: created_at, dtype: object"
      ]
     },
     "execution_count": 39,
     "metadata": {},
     "output_type": "execute_result"
    }
   ],
   "source": [
    "# displaying the name of each weekday for feature created_at\n",
    "\n",
    "df.created_at.dt.weekday_name.head()"
   ]
  },
  {
   "cell_type": "code",
   "execution_count": 40,
   "metadata": {},
   "outputs": [
    {
     "data": {
      "text/plain": [
       "0    2\n",
       "1    2\n",
       "2    2\n",
       "3    2\n",
       "4    2\n",
       "Name: created_at, dtype: int64"
      ]
     },
     "execution_count": 40,
     "metadata": {},
     "output_type": "execute_result"
    }
   ],
   "source": [
    "# displaying a numerical representation of each weekday for feature created_at\n",
    "\n",
    "df.created_at.dt.weekday.head()"
   ]
  },
  {
   "cell_type": "code",
   "execution_count": 41,
   "metadata": {},
   "outputs": [
    {
     "data": {
      "text/plain": [
       "0    51\n",
       "1    51\n",
       "2    51\n",
       "3    51\n",
       "4    51\n",
       "Name: created_at, dtype: int64"
      ]
     },
     "execution_count": 41,
     "metadata": {},
     "output_type": "execute_result"
    }
   ],
   "source": [
    "# distplaying a a value for which day of the year it is for feature created_at\n",
    "\n",
    "df.created_at.dt.dayofyear.head()"
   ]
  },
  {
   "cell_type": "code",
   "execution_count": 42,
   "metadata": {},
   "outputs": [
    {
     "data": {
      "text/html": [
       "<div>\n",
       "<style scoped>\n",
       "    .dataframe tbody tr th:only-of-type {\n",
       "        vertical-align: middle;\n",
       "    }\n",
       "\n",
       "    .dataframe tbody tr th {\n",
       "        vertical-align: top;\n",
       "    }\n",
       "\n",
       "    .dataframe thead th {\n",
       "        text-align: right;\n",
       "    }\n",
       "</style>\n",
       "<table border=\"1\" class=\"dataframe\">\n",
       "  <thead>\n",
       "    <tr style=\"text-align: right;\">\n",
       "      <th></th>\n",
       "      <th>id</th>\n",
       "      <th>number</th>\n",
       "      <th>bike_stands</th>\n",
       "      <th>available_bike_stands</th>\n",
       "      <th>available_bikes</th>\n",
       "      <th>status</th>\n",
       "      <th>last_update</th>\n",
       "      <th>created_at</th>\n",
       "    </tr>\n",
       "  </thead>\n",
       "  <tbody>\n",
       "    <tr>\n",
       "      <th>391884</th>\n",
       "      <td>429288</td>\n",
       "      <td>42</td>\n",
       "      <td>30</td>\n",
       "      <td>12</td>\n",
       "      <td>18</td>\n",
       "      <td>OPEN</td>\n",
       "      <td>2019-03-05 23:49:36</td>\n",
       "      <td>2019-03-06 00:00:02</td>\n",
       "    </tr>\n",
       "    <tr>\n",
       "      <th>391885</th>\n",
       "      <td>429289</td>\n",
       "      <td>30</td>\n",
       "      <td>20</td>\n",
       "      <td>20</td>\n",
       "      <td>0</td>\n",
       "      <td>OPEN</td>\n",
       "      <td>2019-03-05 23:55:35</td>\n",
       "      <td>2019-03-06 00:00:02</td>\n",
       "    </tr>\n",
       "    <tr>\n",
       "      <th>391886</th>\n",
       "      <td>429290</td>\n",
       "      <td>54</td>\n",
       "      <td>33</td>\n",
       "      <td>31</td>\n",
       "      <td>2</td>\n",
       "      <td>OPEN</td>\n",
       "      <td>2019-03-05 23:51:10</td>\n",
       "      <td>2019-03-06 00:00:02</td>\n",
       "    </tr>\n",
       "    <tr>\n",
       "      <th>391887</th>\n",
       "      <td>429291</td>\n",
       "      <td>108</td>\n",
       "      <td>40</td>\n",
       "      <td>28</td>\n",
       "      <td>12</td>\n",
       "      <td>OPEN</td>\n",
       "      <td>2019-03-05 23:56:18</td>\n",
       "      <td>2019-03-06 00:00:02</td>\n",
       "    </tr>\n",
       "    <tr>\n",
       "      <th>391888</th>\n",
       "      <td>429292</td>\n",
       "      <td>56</td>\n",
       "      <td>40</td>\n",
       "      <td>23</td>\n",
       "      <td>17</td>\n",
       "      <td>OPEN</td>\n",
       "      <td>2019-03-05 23:51:05</td>\n",
       "      <td>2019-03-06 00:00:02</td>\n",
       "    </tr>\n",
       "  </tbody>\n",
       "</table>\n",
       "</div>"
      ],
      "text/plain": [
       "            id  number  bike_stands  available_bike_stands  available_bikes  \\\n",
       "391884  429288      42           30                     12               18   \n",
       "391885  429289      30           20                     20                0   \n",
       "391886  429290      54           33                     31                2   \n",
       "391887  429291     108           40                     28               12   \n",
       "391888  429292      56           40                     23               17   \n",
       "\n",
       "       status         last_update          created_at  \n",
       "391884   OPEN 2019-03-05 23:49:36 2019-03-06 00:00:02  \n",
       "391885   OPEN 2019-03-05 23:55:35 2019-03-06 00:00:02  \n",
       "391886   OPEN 2019-03-05 23:51:10 2019-03-06 00:00:02  \n",
       "391887   OPEN 2019-03-05 23:56:18 2019-03-06 00:00:02  \n",
       "391888   OPEN 2019-03-05 23:51:05 2019-03-06 00:00:02  "
      ]
     },
     "execution_count": 42,
     "metadata": {},
     "output_type": "execute_result"
    }
   ],
   "source": [
    "# displaying data for all features that are after the date '2019/03/06'\n",
    "\n",
    "ts = pd.to_datetime('2019/03/06')\n",
    "df.loc[df.created_at >= ts, :].head()"
   ]
  },
  {
   "cell_type": "code",
   "execution_count": 43,
   "metadata": {},
   "outputs": [
    {
     "data": {
      "text/plain": [
       "Timestamp('2019-03-25 14:00:02')"
      ]
     },
     "execution_count": 43,
     "metadata": {},
     "output_type": "execute_result"
    }
   ],
   "source": [
    "# displaying max value for feature created_at\n",
    "\n",
    "df.created_at.max()"
   ]
  },
  {
   "cell_type": "code",
   "execution_count": 44,
   "metadata": {},
   "outputs": [
    {
     "data": {
      "text/plain": [
       "Timestamp('2019-02-20 19:10:01')"
      ]
     },
     "execution_count": 44,
     "metadata": {},
     "output_type": "execute_result"
    }
   ],
   "source": [
    "# displaying min value for feature created_at\n",
    "\n",
    "df.created_at.min()"
   ]
  },
  {
   "cell_type": "code",
   "execution_count": 45,
   "metadata": {},
   "outputs": [
    {
     "data": {
      "text/plain": [
       "Timedelta('32 days 18:50:01')"
      ]
     },
     "execution_count": 45,
     "metadata": {},
     "output_type": "execute_result"
    }
   ],
   "source": [
    "# displaying max - min values for feature created_at. This returns a string of 32 days\n",
    "\n",
    "df.created_at.max() - df.created_at.min()"
   ]
  },
  {
   "cell_type": "code",
   "execution_count": 46,
   "metadata": {},
   "outputs": [
    {
     "data": {
      "text/plain": [
       "32"
      ]
     },
     "execution_count": 46,
     "metadata": {},
     "output_type": "execute_result"
    }
   ],
   "source": [
    "# displaying max - min values for feature created_at. This returns an int of 32 \n",
    "\n",
    "(df.created_at.max() - df.created_at.min()).days"
   ]
  },
  {
   "cell_type": "code",
   "execution_count": 47,
   "metadata": {},
   "outputs": [],
   "source": [
    "# Adding columns to dataset displaying the numerical value for days of the week \n",
    "# The features added are 'create_at_weekday' and 'last_updated_weekday'\n",
    "\n",
    "df['create_at_weekday'] = df.created_at.dt.weekday\n",
    "df['last_updated_weekday'] = df.last_update.dt.weekday"
   ]
  },
  {
   "cell_type": "code",
   "execution_count": 48,
   "metadata": {},
   "outputs": [
    {
     "data": {
      "text/html": [
       "<div>\n",
       "<style scoped>\n",
       "    .dataframe tbody tr th:only-of-type {\n",
       "        vertical-align: middle;\n",
       "    }\n",
       "\n",
       "    .dataframe tbody tr th {\n",
       "        vertical-align: top;\n",
       "    }\n",
       "\n",
       "    .dataframe thead th {\n",
       "        text-align: right;\n",
       "    }\n",
       "</style>\n",
       "<table border=\"1\" class=\"dataframe\">\n",
       "  <thead>\n",
       "    <tr style=\"text-align: right;\">\n",
       "      <th></th>\n",
       "      <th>id</th>\n",
       "      <th>number</th>\n",
       "      <th>bike_stands</th>\n",
       "      <th>available_bike_stands</th>\n",
       "      <th>available_bikes</th>\n",
       "      <th>status</th>\n",
       "      <th>last_update</th>\n",
       "      <th>created_at</th>\n",
       "      <th>create_at_weekday</th>\n",
       "      <th>last_updated_weekday</th>\n",
       "    </tr>\n",
       "  </thead>\n",
       "  <tbody>\n",
       "    <tr>\n",
       "      <th>0</th>\n",
       "      <td>1</td>\n",
       "      <td>42</td>\n",
       "      <td>30</td>\n",
       "      <td>0</td>\n",
       "      <td>30</td>\n",
       "      <td>OPEN</td>\n",
       "      <td>2019-02-20 19:08:32</td>\n",
       "      <td>2019-02-20 19:10:01</td>\n",
       "      <td>2</td>\n",
       "      <td>2</td>\n",
       "    </tr>\n",
       "    <tr>\n",
       "      <th>1</th>\n",
       "      <td>2</td>\n",
       "      <td>30</td>\n",
       "      <td>20</td>\n",
       "      <td>17</td>\n",
       "      <td>3</td>\n",
       "      <td>OPEN</td>\n",
       "      <td>2019-02-20 19:02:00</td>\n",
       "      <td>2019-02-20 19:10:01</td>\n",
       "      <td>2</td>\n",
       "      <td>2</td>\n",
       "    </tr>\n",
       "    <tr>\n",
       "      <th>2</th>\n",
       "      <td>3</td>\n",
       "      <td>54</td>\n",
       "      <td>33</td>\n",
       "      <td>33</td>\n",
       "      <td>0</td>\n",
       "      <td>OPEN</td>\n",
       "      <td>2019-02-20 19:02:15</td>\n",
       "      <td>2019-02-20 19:10:01</td>\n",
       "      <td>2</td>\n",
       "      <td>2</td>\n",
       "    </tr>\n",
       "    <tr>\n",
       "      <th>3</th>\n",
       "      <td>4</td>\n",
       "      <td>108</td>\n",
       "      <td>40</td>\n",
       "      <td>26</td>\n",
       "      <td>13</td>\n",
       "      <td>OPEN</td>\n",
       "      <td>2019-02-20 19:01:08</td>\n",
       "      <td>2019-02-20 19:10:01</td>\n",
       "      <td>2</td>\n",
       "      <td>2</td>\n",
       "    </tr>\n",
       "    <tr>\n",
       "      <th>4</th>\n",
       "      <td>5</td>\n",
       "      <td>56</td>\n",
       "      <td>40</td>\n",
       "      <td>34</td>\n",
       "      <td>6</td>\n",
       "      <td>OPEN</td>\n",
       "      <td>2019-02-20 19:08:18</td>\n",
       "      <td>2019-02-20 19:10:01</td>\n",
       "      <td>2</td>\n",
       "      <td>2</td>\n",
       "    </tr>\n",
       "  </tbody>\n",
       "</table>\n",
       "</div>"
      ],
      "text/plain": [
       "   id  number  bike_stands  available_bike_stands  available_bikes status  \\\n",
       "0   1      42           30                      0               30   OPEN   \n",
       "1   2      30           20                     17                3   OPEN   \n",
       "2   3      54           33                     33                0   OPEN   \n",
       "3   4     108           40                     26               13   OPEN   \n",
       "4   5      56           40                     34                6   OPEN   \n",
       "\n",
       "          last_update          created_at  create_at_weekday  \\\n",
       "0 2019-02-20 19:08:32 2019-02-20 19:10:01                  2   \n",
       "1 2019-02-20 19:02:00 2019-02-20 19:10:01                  2   \n",
       "2 2019-02-20 19:02:15 2019-02-20 19:10:01                  2   \n",
       "3 2019-02-20 19:01:08 2019-02-20 19:10:01                  2   \n",
       "4 2019-02-20 19:08:18 2019-02-20 19:10:01                  2   \n",
       "\n",
       "   last_updated_weekday  \n",
       "0                     2  \n",
       "1                     2  \n",
       "2                     2  \n",
       "3                     2  \n",
       "4                     2  "
      ]
     },
     "execution_count": 48,
     "metadata": {},
     "output_type": "execute_result"
    }
   ],
   "source": [
    "df.head()"
   ]
  },
  {
   "cell_type": "markdown",
   "metadata": {},
   "source": [
    "### Descriptive Statistics for Categorical Features"
   ]
  },
  {
   "cell_type": "code",
   "execution_count": 49,
   "metadata": {},
   "outputs": [
    {
     "data": {
      "text/html": [
       "<div>\n",
       "<style scoped>\n",
       "    .dataframe tbody tr th:only-of-type {\n",
       "        vertical-align: middle;\n",
       "    }\n",
       "\n",
       "    .dataframe tbody tr th {\n",
       "        vertical-align: top;\n",
       "    }\n",
       "\n",
       "    .dataframe thead th {\n",
       "        text-align: right;\n",
       "    }\n",
       "</style>\n",
       "<table border=\"1\" class=\"dataframe\">\n",
       "  <thead>\n",
       "    <tr style=\"text-align: right;\">\n",
       "      <th></th>\n",
       "      <th>count</th>\n",
       "      <th>unique</th>\n",
       "      <th>top</th>\n",
       "      <th>freq</th>\n",
       "      <th>first</th>\n",
       "      <th>last</th>\n",
       "    </tr>\n",
       "  </thead>\n",
       "  <tbody>\n",
       "    <tr>\n",
       "      <th>last_update</th>\n",
       "      <td>1019825</td>\n",
       "      <td>533693</td>\n",
       "      <td>2019-03-18 03:27:27</td>\n",
       "      <td>338</td>\n",
       "      <td>2019-02-20 18:59:04</td>\n",
       "      <td>2019-03-25 13:59:01</td>\n",
       "    </tr>\n",
       "    <tr>\n",
       "      <th>created_at</th>\n",
       "      <td>1019825</td>\n",
       "      <td>10173</td>\n",
       "      <td>2019-03-12 12:30:02</td>\n",
       "      <td>113</td>\n",
       "      <td>2019-02-20 19:10:01</td>\n",
       "      <td>2019-03-25 14:00:02</td>\n",
       "    </tr>\n",
       "  </tbody>\n",
       "</table>\n",
       "</div>"
      ],
      "text/plain": [
       "               count  unique                  top freq                first  \\\n",
       "last_update  1019825  533693  2019-03-18 03:27:27  338  2019-02-20 18:59:04   \n",
       "created_at   1019825   10173  2019-03-12 12:30:02  113  2019-02-20 19:10:01   \n",
       "\n",
       "                            last  \n",
       "last_update  2019-03-25 13:59:01  \n",
       "created_at   2019-03-25 14:00:02  "
      ]
     },
     "execution_count": 49,
     "metadata": {},
     "output_type": "execute_result"
    }
   ],
   "source": [
    "# Descriptive statistics for all the DateTime features\n",
    "\n",
    "df.select_dtypes(['datetime64[ns]']).describe().T"
   ]
  },
  {
   "cell_type": "markdown",
   "metadata": {},
   "source": [
    "### Descriptive Statistics for Categorical Features"
   ]
  },
  {
   "cell_type": "code",
   "execution_count": 50,
   "metadata": {},
   "outputs": [
    {
     "data": {
      "text/html": [
       "<div>\n",
       "<style scoped>\n",
       "    .dataframe tbody tr th:only-of-type {\n",
       "        vertical-align: middle;\n",
       "    }\n",
       "\n",
       "    .dataframe tbody tr th {\n",
       "        vertical-align: top;\n",
       "    }\n",
       "\n",
       "    .dataframe thead th {\n",
       "        text-align: right;\n",
       "    }\n",
       "</style>\n",
       "<table border=\"1\" class=\"dataframe\">\n",
       "  <thead>\n",
       "    <tr style=\"text-align: right;\">\n",
       "      <th></th>\n",
       "      <th>count</th>\n",
       "      <th>unique</th>\n",
       "      <th>top</th>\n",
       "      <th>freq</th>\n",
       "    </tr>\n",
       "  </thead>\n",
       "  <tbody>\n",
       "    <tr>\n",
       "      <th>status</th>\n",
       "      <td>1019825</td>\n",
       "      <td>2</td>\n",
       "      <td>OPEN</td>\n",
       "      <td>1013976</td>\n",
       "    </tr>\n",
       "  </tbody>\n",
       "</table>\n",
       "</div>"
      ],
      "text/plain": [
       "          count unique   top     freq\n",
       "status  1019825      2  OPEN  1013976"
      ]
     },
     "execution_count": 50,
     "metadata": {},
     "output_type": "execute_result"
    }
   ],
   "source": [
    "# Descriptive statistics for all the categorical features\n",
    "\n",
    "df.select_dtypes(['category']).describe().T"
   ]
  },
  {
   "cell_type": "markdown",
   "metadata": {},
   "source": [
    "### Descriptive Statistics for Categorical Features"
   ]
  },
  {
   "cell_type": "code",
   "execution_count": 51,
   "metadata": {},
   "outputs": [
    {
     "data": {
      "text/html": [
       "<div>\n",
       "<style scoped>\n",
       "    .dataframe tbody tr th:only-of-type {\n",
       "        vertical-align: middle;\n",
       "    }\n",
       "\n",
       "    .dataframe tbody tr th {\n",
       "        vertical-align: top;\n",
       "    }\n",
       "\n",
       "    .dataframe thead th {\n",
       "        text-align: right;\n",
       "    }\n",
       "</style>\n",
       "<table border=\"1\" class=\"dataframe\">\n",
       "  <thead>\n",
       "    <tr style=\"text-align: right;\">\n",
       "      <th></th>\n",
       "      <th>count</th>\n",
       "      <th>mean</th>\n",
       "      <th>std</th>\n",
       "      <th>min</th>\n",
       "      <th>25%</th>\n",
       "      <th>50%</th>\n",
       "      <th>75%</th>\n",
       "      <th>max</th>\n",
       "    </tr>\n",
       "  </thead>\n",
       "  <tbody>\n",
       "    <tr>\n",
       "      <th>id</th>\n",
       "      <td>1019825.0</td>\n",
       "      <td>541584.777729</td>\n",
       "      <td>306178.290062</td>\n",
       "      <td>1.0</td>\n",
       "      <td>290439.0</td>\n",
       "      <td>547316.0</td>\n",
       "      <td>803854.0</td>\n",
       "      <td>1066494.0</td>\n",
       "    </tr>\n",
       "    <tr>\n",
       "      <th>number</th>\n",
       "      <td>1019825.0</td>\n",
       "      <td>58.840708</td>\n",
       "      <td>32.852210</td>\n",
       "      <td>2.0</td>\n",
       "      <td>31.0</td>\n",
       "      <td>59.0</td>\n",
       "      <td>87.0</td>\n",
       "      <td>115.0</td>\n",
       "    </tr>\n",
       "    <tr>\n",
       "      <th>bike_stands</th>\n",
       "      <td>1019825.0</td>\n",
       "      <td>32.011585</td>\n",
       "      <td>7.562254</td>\n",
       "      <td>16.0</td>\n",
       "      <td>29.0</td>\n",
       "      <td>30.0</td>\n",
       "      <td>40.0</td>\n",
       "      <td>40.0</td>\n",
       "    </tr>\n",
       "    <tr>\n",
       "      <th>available_bike_stands</th>\n",
       "      <td>1019825.0</td>\n",
       "      <td>20.869996</td>\n",
       "      <td>11.735401</td>\n",
       "      <td>0.0</td>\n",
       "      <td>12.0</td>\n",
       "      <td>20.0</td>\n",
       "      <td>30.0</td>\n",
       "      <td>44.0</td>\n",
       "    </tr>\n",
       "    <tr>\n",
       "      <th>available_bikes</th>\n",
       "      <td>1019825.0</td>\n",
       "      <td>10.838748</td>\n",
       "      <td>10.662859</td>\n",
       "      <td>0.0</td>\n",
       "      <td>1.0</td>\n",
       "      <td>8.0</td>\n",
       "      <td>18.0</td>\n",
       "      <td>40.0</td>\n",
       "    </tr>\n",
       "    <tr>\n",
       "      <th>create_at_weekday</th>\n",
       "      <td>1019825.0</td>\n",
       "      <td>3.135734</td>\n",
       "      <td>2.013659</td>\n",
       "      <td>0.0</td>\n",
       "      <td>1.0</td>\n",
       "      <td>3.0</td>\n",
       "      <td>5.0</td>\n",
       "      <td>6.0</td>\n",
       "    </tr>\n",
       "    <tr>\n",
       "      <th>last_updated_weekday</th>\n",
       "      <td>1019825.0</td>\n",
       "      <td>3.137157</td>\n",
       "      <td>2.013220</td>\n",
       "      <td>0.0</td>\n",
       "      <td>1.0</td>\n",
       "      <td>3.0</td>\n",
       "      <td>5.0</td>\n",
       "      <td>6.0</td>\n",
       "    </tr>\n",
       "  </tbody>\n",
       "</table>\n",
       "</div>"
      ],
      "text/plain": [
       "                           count           mean            std   min  \\\n",
       "id                     1019825.0  541584.777729  306178.290062   1.0   \n",
       "number                 1019825.0      58.840708      32.852210   2.0   \n",
       "bike_stands            1019825.0      32.011585       7.562254  16.0   \n",
       "available_bike_stands  1019825.0      20.869996      11.735401   0.0   \n",
       "available_bikes        1019825.0      10.838748      10.662859   0.0   \n",
       "create_at_weekday      1019825.0       3.135734       2.013659   0.0   \n",
       "last_updated_weekday   1019825.0       3.137157       2.013220   0.0   \n",
       "\n",
       "                            25%       50%       75%        max  \n",
       "id                     290439.0  547316.0  803854.0  1066494.0  \n",
       "number                     31.0      59.0      87.0      115.0  \n",
       "bike_stands                29.0      30.0      40.0       40.0  \n",
       "available_bike_stands      12.0      20.0      30.0       44.0  \n",
       "available_bikes             1.0       8.0      18.0       40.0  \n",
       "create_at_weekday           1.0       3.0       5.0        6.0  \n",
       "last_updated_weekday        1.0       3.0       5.0        6.0  "
      ]
     },
     "execution_count": 51,
     "metadata": {},
     "output_type": "execute_result"
    }
   ],
   "source": [
    "# Keep only the numeric features.\n",
    "\n",
    "numeric_columns = df.select_dtypes(['int64']).columns\n",
    "df[numeric_columns].describe().T"
   ]
  },
  {
   "cell_type": "markdown",
   "metadata": {},
   "source": [
    "### Checking for Duplicates"
   ]
  },
  {
   "cell_type": "code",
   "execution_count": 52,
   "metadata": {},
   "outputs": [
    {
     "data": {
      "text/html": [
       "<div>\n",
       "<style scoped>\n",
       "    .dataframe tbody tr th:only-of-type {\n",
       "        vertical-align: middle;\n",
       "    }\n",
       "\n",
       "    .dataframe tbody tr th {\n",
       "        vertical-align: top;\n",
       "    }\n",
       "\n",
       "    .dataframe thead th {\n",
       "        text-align: right;\n",
       "    }\n",
       "</style>\n",
       "<table border=\"1\" class=\"dataframe\">\n",
       "  <thead>\n",
       "    <tr style=\"text-align: right;\">\n",
       "      <th></th>\n",
       "      <th>id</th>\n",
       "      <th>number</th>\n",
       "      <th>bike_stands</th>\n",
       "      <th>available_bike_stands</th>\n",
       "      <th>available_bikes</th>\n",
       "      <th>status</th>\n",
       "      <th>last_update</th>\n",
       "      <th>created_at</th>\n",
       "      <th>create_at_weekday</th>\n",
       "      <th>last_updated_weekday</th>\n",
       "      <th>is_duplicate</th>\n",
       "    </tr>\n",
       "  </thead>\n",
       "  <tbody>\n",
       "    <tr>\n",
       "      <th>0</th>\n",
       "      <td>1</td>\n",
       "      <td>42</td>\n",
       "      <td>30</td>\n",
       "      <td>0</td>\n",
       "      <td>30</td>\n",
       "      <td>OPEN</td>\n",
       "      <td>2019-02-20 19:08:32</td>\n",
       "      <td>2019-02-20 19:10:01</td>\n",
       "      <td>2</td>\n",
       "      <td>2</td>\n",
       "      <td>False</td>\n",
       "    </tr>\n",
       "    <tr>\n",
       "      <th>1</th>\n",
       "      <td>2</td>\n",
       "      <td>30</td>\n",
       "      <td>20</td>\n",
       "      <td>17</td>\n",
       "      <td>3</td>\n",
       "      <td>OPEN</td>\n",
       "      <td>2019-02-20 19:02:00</td>\n",
       "      <td>2019-02-20 19:10:01</td>\n",
       "      <td>2</td>\n",
       "      <td>2</td>\n",
       "      <td>False</td>\n",
       "    </tr>\n",
       "    <tr>\n",
       "      <th>2</th>\n",
       "      <td>3</td>\n",
       "      <td>54</td>\n",
       "      <td>33</td>\n",
       "      <td>33</td>\n",
       "      <td>0</td>\n",
       "      <td>OPEN</td>\n",
       "      <td>2019-02-20 19:02:15</td>\n",
       "      <td>2019-02-20 19:10:01</td>\n",
       "      <td>2</td>\n",
       "      <td>2</td>\n",
       "      <td>False</td>\n",
       "    </tr>\n",
       "    <tr>\n",
       "      <th>3</th>\n",
       "      <td>4</td>\n",
       "      <td>108</td>\n",
       "      <td>40</td>\n",
       "      <td>26</td>\n",
       "      <td>13</td>\n",
       "      <td>OPEN</td>\n",
       "      <td>2019-02-20 19:01:08</td>\n",
       "      <td>2019-02-20 19:10:01</td>\n",
       "      <td>2</td>\n",
       "      <td>2</td>\n",
       "      <td>False</td>\n",
       "    </tr>\n",
       "    <tr>\n",
       "      <th>4</th>\n",
       "      <td>5</td>\n",
       "      <td>56</td>\n",
       "      <td>40</td>\n",
       "      <td>34</td>\n",
       "      <td>6</td>\n",
       "      <td>OPEN</td>\n",
       "      <td>2019-02-20 19:08:18</td>\n",
       "      <td>2019-02-20 19:10:01</td>\n",
       "      <td>2</td>\n",
       "      <td>2</td>\n",
       "      <td>False</td>\n",
       "    </tr>\n",
       "  </tbody>\n",
       "</table>\n",
       "</div>"
      ],
      "text/plain": [
       "   id  number  bike_stands  available_bike_stands  available_bikes status  \\\n",
       "0   1      42           30                      0               30   OPEN   \n",
       "1   2      30           20                     17                3   OPEN   \n",
       "2   3      54           33                     33                0   OPEN   \n",
       "3   4     108           40                     26               13   OPEN   \n",
       "4   5      56           40                     34                6   OPEN   \n",
       "\n",
       "           last_update           created_at  create_at_weekday  \\\n",
       "0  2019-02-20 19:08:32  2019-02-20 19:10:01                  2   \n",
       "1  2019-02-20 19:02:00  2019-02-20 19:10:01                  2   \n",
       "2  2019-02-20 19:02:15  2019-02-20 19:10:01                  2   \n",
       "3  2019-02-20 19:01:08  2019-02-20 19:10:01                  2   \n",
       "4  2019-02-20 19:08:18  2019-02-20 19:10:01                  2   \n",
       "\n",
       "   last_updated_weekday  is_duplicate  \n",
       "0                     2         False  \n",
       "1                     2         False  \n",
       "2                     2         False  \n",
       "3                     2         False  \n",
       "4                     2         False  "
      ]
     },
     "execution_count": 52,
     "metadata": {},
     "output_type": "execute_result"
    }
   ],
   "source": [
    "# Checking where there are any duplicate rows within the data set by creating a new row\n",
    "# If the boolean value is True within the column is_duplicate it means that the row is dublicate\n",
    "\n",
    "df[\"is_duplicate\"]= df.duplicated()\n",
    "df.loc[\"is_duplicate\"]=True\n",
    "df.head()"
   ]
  },
  {
   "cell_type": "code",
   "execution_count": 53,
   "metadata": {},
   "outputs": [
    {
     "name": "stdout",
     "output_type": "stream",
     "text": [
      "Duplicate rows: 0\n",
      "Duplicate columns: 0\n"
     ]
    }
   ],
   "source": [
    "# Counting the number of duplicate rows\n",
    "print('Duplicate rows:', df.duplicated()[df.duplicated() == True].shape[0])\n",
    "\n",
    "# Counting the number of duplicate columns\n",
    "print('Duplicate columns:',df.columns.size - df.columns.unique().size)"
   ]
  },
  {
   "cell_type": "markdown",
   "metadata": {},
   "source": [
    "### Box Plots for Continuous Features"
   ]
  },
  {
   "cell_type": "code",
   "execution_count": 54,
   "metadata": {},
   "outputs": [
    {
     "data": {
      "image/png": "[encoded data removed]",
      "text/plain": [
       "<Figure size 720x720 with 1 Axes>"
      ]
     },
     "metadata": {
      "needs_background": "light"
     },
     "output_type": "display_data"
    },
    {
     "data": {
      "image/png": "[encoded data removed]",
      "text/plain": [
       "<Figure size 720x720 with 1 Axes>"
      ]
     },
     "metadata": {
      "needs_background": "light"
     },
     "output_type": "display_data"
    },
    {
     "data": {
      "image/png": "[encoded data removed]",
      "text/plain": [
       "<Figure size 720x720 with 1 Axes>"
      ]
     },
     "metadata": {
      "needs_background": "light"
     },
     "output_type": "display_data"
    },
    {
     "data": {
      "image/png": "[encoded data removed]",
      "text/plain": [
       "<Figure size 720x720 with 1 Axes>"
      ]
     },
     "metadata": {
      "needs_background": "light"
     },
     "output_type": "display_data"
    },
    {
     "data": {
      "image/png": "[encoded data removed]",
      "text/plain": [
       "<Figure size 720x720 with 1 Axes>"
      ]
     },
     "metadata": {
      "needs_background": "light"
     },
     "output_type": "display_data"
    },
    {
     "data": {
      "image/png": "[encoded data removed]",
      "text/plain": [
       "<Figure size 720x720 with 1 Axes>"
      ]
     },
     "metadata": {
      "needs_background": "light"
     },
     "output_type": "display_data"
    },
    {
     "data": {
      "image/png": "[encoded data removed]",
      "text/plain": [
       "<Figure size 720x720 with 1 Axes>"
      ]
     },
     "metadata": {
      "needs_background": "light"
     },
     "output_type": "display_data"
    }
   ],
   "source": [
    "# Box plots for all continuous features within the data set\n",
    "\n",
    "numeric_columns = df.select_dtypes(['int64']).columns\n",
    "color = {'boxes': 'DarkGreen', 'whiskers': 'DarkOrange', 'medians': 'DarkBlue', 'caps': 'Gray'}\n",
    "\n",
    "for col in numeric_columns:\n",
    "    f = df[col].plot(color= color, kind='box', figsize=(10, 10))\n",
    "    plt.show()"
   ]
  },
  {
   "cell_type": "markdown",
   "metadata": {},
   "source": [
    "### Histograms for Continuous Features"
   ]
  },
  {
   "cell_type": "code",
   "execution_count": null,
   "metadata": {},
   "outputs": [],
   "source": [
    "# Histograms for all continuous features within the dataset\n",
    "\n",
    "plt.figure()\n",
    "df[numeric_columns].hist(figsize=(20, 20))"
   ]
  },
  {
   "cell_type": "markdown",
   "metadata": {},
   "source": [
    "### Scatter Plots Comparing All Continuous Features"
   ]
  },
  {
   "cell_type": "code",
   "execution_count": null,
   "metadata": {},
   "outputs": [],
   "source": [
    "for i in numeric_columns:\n",
    "     for j in numeric_columns:\n",
    "         df.plot(kind='scatter', x=i, y=j)"
   ]
  },
  {
   "cell_type": "markdown",
   "metadata": {},
   "source": [
    "### Barplots for Categorical Features"
   ]
  },
  {
   "cell_type": "code",
   "execution_count": null,
   "metadata": {},
   "outputs": [],
   "source": [
    "df['status'].value_counts().plot(kind='bar')"
   ]
  },
  {
   "cell_type": "markdown",
   "metadata": {},
   "source": [
    "### Linear(?) Plots for DateTime Features"
   ]
  },
  {
   "cell_type": "code",
   "execution_count": 12,
   "metadata": {},
   "outputs": [
    {
     "data": {
      "text/plain": [
       "id                                int64\n",
       "number                            int64\n",
       "bike_stands                       int64\n",
       "available_bike_stands             int64\n",
       "available_bikes                   int64\n",
       "status                         category\n",
       "last_update              datetime64[ns]\n",
       "created_at               datetime64[ns]\n",
       "dtype: object"
      ]
     },
     "execution_count": 12,
     "metadata": {},
     "output_type": "execute_result"
    }
   ],
   "source": [
    "df.dtypes"
   ]
  },
  {
   "cell_type": "code",
   "execution_count": null,
   "metadata": {},
   "outputs": [],
   "source": [
    "df.create_at_weekday.value_counts().sort_index().plot()"
   ]
  },
  {
   "cell_type": "code",
   "execution_count": 31,
   "metadata": {},
   "outputs": [
    {
     "data": {
      "text/plain": [
       "<matplotlib.axes._subplots.AxesSubplot at 0x13035b9b0>"
      ]
     },
     "execution_count": 31,
     "metadata": {},
     "output_type": "execute_result"
    },
    {
     "data": {
      "image/png": "[encoded data removed]",
      "text/plain": [
       "<Figure size 432x288 with 1 Axes>"
      ]
     },
     "metadata": {
      "needs_background": "light"
     },
     "output_type": "display_data"
    }
   ],
   "source": [
    "df.last_updated_weekday.value_counts().sort_index().plot()"
   ]
  },
  {
   "cell_type": "markdown",
   "metadata": {},
   "source": [
    "Note that both date time features out put the same information on the graph!"
   ]
  },
  {
   "cell_type": "markdown",
   "metadata": {},
   "source": [
    "### Save updated_availability csv File"
   ]
  },
  {
   "cell_type": "code",
   "execution_count": null,
   "metadata": {},
   "outputs": [],
   "source": [
    "#Save df to new csv file\n",
    "#df.to_csv('updated_availability.csv')"
   ]
  }
 ],
 "metadata": {
  "kernelspec": {
   "display_name": "Python 3",
   "language": "python",
   "name": "python3"
  },
  "language_info": {
   "codemirror_mode": {
    "name": "ipython",
    "version": 3
   },
   "file_extension": ".py",
   "mimetype": "text/x-python",
   "name": "python",
   "nbconvert_exporter": "python",
   "pygments_lexer": "ipython3",
   "version": "3.7.2"
  }
 },
 "nbformat": 4,
 "nbformat_minor": 2
}
